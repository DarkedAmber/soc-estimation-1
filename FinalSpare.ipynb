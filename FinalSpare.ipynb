{
  "nbformat": 4,
  "nbformat_minor": 0,
  "metadata": {
    "colab": {
      "provenance": []
    },
    "kernelspec": {
      "name": "python3",
      "display_name": "Python 3"
    },
    "language_info": {
      "name": "python"
    }
  },
  "cells": [
    {
      "cell_type": "code",
      "source": [
        "import pandas as pd\n",
        "import numpy as np\n",
        "from sklearn.model_selection import train_test_split, GridSearchCV\n",
        "from sklearn.preprocessing import StandardScaler\n",
        "from sklearn.metrics import mean_absolute_error, r2_score\n",
        "import xgboost as xgb\n",
        "from sklearn.ensemble import RandomForestRegressor\n",
        "from sklearn.svm import SVR\n",
        "import matplotlib.pyplot as plt\n",
        "from tensorflow.keras.models import Sequential\n",
        "from tensorflow.keras.layers import Dense, Dropout\n",
        "from tensorflow.keras.callbacks import EarlyStopping\n",
        "\n",
        "df = pd.read_csv('/content/synthetic_soc_dataset_24V.csv')\n",
        "\n",
        "X = df[['Voltage (V)', 'Current (A)', 'Temperature (°C)']]\n",
        "y = df['SoC (%)']\n",
        "X_train, X_test, y_train, y_test = train_test_split(X, y, test_size=0.2, random_state=42)\n",
        "\n",
        "scaler = StandardScaler()\n",
        "X_train_scaled = scaler.fit_transform(X_train)\n",
        "X_test_scaled = scaler.transform(X_test)"
      ],
      "metadata": {
        "id": "I_rMNeDMH3_N"
      },
      "execution_count": null,
      "outputs": []
    },
    {
      "cell_type": "code",
      "source": [
        "\n",
        "# rf_model = RandomForestRegressor(random_state=42)\n",
        "\n",
        "# rf_params = {\n",
        "#     'n_estimators': [200, 300],\n",
        "#     'max_depth': [10, 20, None],\n",
        "#     'min_samples_split': [2, 5],\n",
        "#     'min_samples_leaf': [1, 2]\n",
        "# }\n",
        "\n",
        "# rf_grid = GridSearchCV(rf_model, rf_params, cv=5, scoring='neg_mean_absolute_error', n_jobs=-1)\n",
        "# rf_grid.fit(X_train_scaled, y_train)\n",
        "\n",
        "# best_rf = rf_grid.best_estimator_\n",
        "# y_pred_rf = best_rf.predict(X_test_scaled)"
      ],
      "metadata": {
        "id": "I87mLof8JHl9"
      },
      "execution_count": null,
      "outputs": []
    },
    {
      "cell_type": "code",
      "source": [
        "\n",
        "xgb_model = xgb.XGBRegressor(objective='reg:squarederror')\n",
        "\n",
        "param_grid = {\n",
        "    'n_estimators': [300, 500, 700],\n",
        "    'learning_rate': [0.01, 0.05, 0.1],\n",
        "    'max_depth': [4, 6, 8],\n",
        "    'subsample': [0.7, 0.9],\n",
        "    'colsample_bytree': [0.7, 0.9],\n",
        "    'gamma': [0, 0.1]\n",
        "}\n",
        "\n",
        "xgb_grid = GridSearchCV(xgb_model, param_grid, cv=5, scoring='neg_mean_absolute_error', n_jobs=-1)\n",
        "xgb_grid.fit(X_train_scaled, y_train)\n",
        "\n",
        "best_xgb = xgb_grid.best_estimator_\n",
        "y_pred_xgb = best_xgb.predict(X_test_scaled)"
      ],
      "metadata": {
        "id": "jfbPMXwWKYBm"
      },
      "execution_count": null,
      "outputs": []
    },
    {
      "cell_type": "code",
      "source": [
        "\n",
        "# nn_model = Sequential([\n",
        "#     Dense(128, activation='relu', input_shape=(X_train_scaled.shape[1],)),\n",
        "#     Dropout(0.3),\n",
        "#     Dense(64, activation='relu'),\n",
        "#     Dropout(0.2),\n",
        "#     Dense(32, activation='relu'),\n",
        "#     Dense(1)\n",
        "# ])\n",
        "\n",
        "# nn_model.compile(optimizer='adam', loss='mae', metrics=['mae'])\n",
        "\n",
        "# early_stop = EarlyStopping(monitor='val_loss', patience=20, restore_best_weights=True)\n",
        "\n",
        "# history = nn_model.fit(\n",
        "#     X_train_scaled, y_train,\n",
        "#     epochs=200,\n",
        "#     batch_size=64,\n",
        "#     validation_data=(X_test_scaled, y_test),\n",
        "#     callbacks=[early_stop],\n",
        "#     verbose=0\n",
        "# )\n",
        "\n",
        "# y_pred_nn = nn_model.predict(X_test_scaled).flatten()"
      ],
      "metadata": {
        "id": "gS5h-I1Ln1Zv"
      },
      "execution_count": null,
      "outputs": []
    },
    {
      "cell_type": "code",
      "source": [
        "# def evaluate_model(name, y_true, y_pred):\n",
        "#     mae = mean_absolute_error(y_true, y_pred)\n",
        "#     r2 = r2_score(y_true, y_pred)\n",
        "#     print(f\"{name} Performance:\")\n",
        "#     print(f\"MAE: {mae:.4f}%\")\n",
        "#     print(f\"R² Score: {r2:.4f}\")\n",
        "#     print(\"-\"*40)\n",
        "\n",
        "#     plt.figure(figsize=(8,6))\n",
        "#     plt.scatter(y_true, y_pred, alpha=0.3)\n",
        "#     plt.plot([0,100], [0,100], 'r--')\n",
        "#     plt.title(f'{name} Prediction vs Actual')\n",
        "#     plt.xlabel('Actual SoC (%)')\n",
        "#     plt.ylabel('Predicted SoC (%)')\n",
        "#     plt.show()\n",
        "\n",
        "# # Evaluate all models\n",
        "# evaluate_model(\"XGBoost\", y_test, y_pred_xgb)\n",
        "# evaluate_model(\"Random Forest\", y_test, y_pred_rf)\n",
        "# evaluate_model(\"Neural Network\", y_test, y_pred_nn)"
      ],
      "metadata": {
        "id": "ArzbKeasoKU0"
      },
      "execution_count": null,
      "outputs": []
    },
    {
      "cell_type": "code",
      "source": [
        "\n",
        "# plt.figure(figsize=(10,6))\n",
        "# xgb.plot_importance(best_xgb)\n",
        "# plt.title('XGBoost Feature Importance')\n",
        "# plt.show()\n",
        "\n",
        "# importance_df = pd.DataFrame({\n",
        "#     'Feature': X.columns,\n",
        "#     'Importance': best_xgb.feature_importances_\n",
        "# }).sort_values('Importance', ascending=False)\n",
        "\n",
        "# print(\"Feature Importance Ranking:\")\n",
        "# print(importance_df)"
      ],
      "metadata": {
        "id": "h9VYS90foLUZ"
      },
      "execution_count": null,
      "outputs": []
    },
    {
      "cell_type": "code",
      "source": [
        "import joblib\n",
        "\n",
        "final_model = best_xgb\n",
        "joblib.dump(final_model, 'soc_predictor_xgb.pkl')\n",
        "joblib.dump(scaler, 'scaler.pkl')\n",
        "\n",
        "\n"
      ],
      "metadata": {
        "id": "q9N3yXXdoSJI",
        "colab": {
          "base_uri": "https://localhost:8080/"
        },
        "outputId": "931872ef-b7f9-49e3-8cdb-d11637722824"
      },
      "execution_count": null,
      "outputs": [
        {
          "output_type": "execute_result",
          "data": {
            "text/plain": [
              "['scaler.pkl']"
            ]
          },
          "metadata": {},
          "execution_count": 17
        }
      ]
    },
    {
      "cell_type": "code",
      "source": [
        "\n",
        "model = joblib.load('soc_predictor_xgb.pkl')\n",
        "scaler = joblib.load('scaler.pkl')\n",
        "\n",
        "new_data = np.array([[29, 3.5, 35]])\n",
        "new_data_scaled = scaler.transform(new_data)\n",
        "\n",
        "soc_prediction = model.predict(new_data_scaled)\n",
        "print(f\"Predicted SoC: {soc_prediction[0]:.2f}%\")"
      ],
      "metadata": {
        "id": "jrylyUgWozR6",
        "colab": {
          "base_uri": "https://localhost:8080/"
        },
        "outputId": "dbc58f34-5b98-4e09-f108-9bc22a0968b7"
      },
      "execution_count": null,
      "outputs": [
        {
          "output_type": "stream",
          "name": "stdout",
          "text": [
            "Predicted SoC: 92.86%\n"
          ]
        },
        {
          "output_type": "stream",
          "name": "stderr",
          "text": [
            "/usr/local/lib/python3.11/dist-packages/sklearn/utils/validation.py:2739: UserWarning: X does not have valid feature names, but StandardScaler was fitted with feature names\n",
            "  warnings.warn(\n"
          ]
        }
      ]
    },
    {
      "cell_type": "code",
      "source": [
        "# # Load real-time logger data\n",
        "# logger_df = pd.read_csv('ev_sensor_log.csv')\n",
        "\n",
        "# # Ensure correct column names\n",
        "# logger_df.columns = logger_df.columns.str.strip()\n",
        "\n",
        "# # Select features used in training\n",
        "# input_features = ['Voltage (V)', 'Current (A)', 'Temperature (°C)']\n",
        "# logger_inputs = logger_df[input_features]\n",
        "\n",
        "# # Scale real-time inputs\n",
        "# logger_scaled = scaler.transform(logger_inputs)\n",
        "\n",
        "# # Predict SoC for each row\n",
        "# logger_df['Predicted SoC (%)'] = model.predict(logger_scaled)\n",
        "\n",
        "# # Output results\n",
        "# print(logger_df[['Voltage (V)', 'Current (A)', 'Temperature (°C)', 'Predicted SoC (%)']].head())\n",
        "\n",
        "# # Save to new CSV\n",
        "# logger_df.to_csv('real_time_soc_predictions.csv', index=False)\n",
        "# print(\"Saved predictions to 'real_time_soc_predictions.csv'\")"
      ],
      "metadata": {
        "id": "RURPjygbf5wf",
        "colab": {
          "base_uri": "https://localhost:8080/"
        },
        "outputId": "ab1717b4-e037-4d55-f747-c5ff9795c773"
      },
      "execution_count": null,
      "outputs": [
        {
          "output_type": "stream",
          "name": "stdout",
          "text": [
            "   Voltage (V)  Current (A)  Temperature (°C)  Predicted SoC (%)\n",
            "0        -0.06         0.53             33.06           2.235659\n",
            "1        -0.05         0.63             33.12           2.221772\n",
            "2        25.48        12.74             33.06          94.546822\n",
            "3        25.37         3.58             33.06          92.881844\n",
            "4        25.67         3.81             33.12          95.805260\n",
            "Saved predictions to 'real_time_soc_predictions.csv'\n"
          ]
        }
      ]
    },
    {
      "cell_type": "code",
      "source": [],
      "metadata": {
        "id": "VgjhyONxMhfK"
      },
      "execution_count": null,
      "outputs": []
    }
  ]
}